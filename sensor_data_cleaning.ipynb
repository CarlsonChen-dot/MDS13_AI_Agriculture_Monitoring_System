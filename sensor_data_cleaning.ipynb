{
 "cells": [
  {
   "cell_type": "code",
   "execution_count": 1,
   "id": "ffe06323-3b58-4d2b-985a-5590ee1791ce",
   "metadata": {},
   "outputs": [],
   "source": [
    "import pandas as pd\n",
    "import numpy as np\n",
    "import joblib"
   ]
  },
  {
   "cell_type": "code",
   "execution_count": 3,
   "id": "0582056e-6b77-4ed9-b745-857ea6583907",
   "metadata": {},
   "outputs": [],
   "source": [
    "sensor_data = pd.read_csv('Inside sensor.csv')"
   ]
  },
  {
   "cell_type": "code",
   "execution_count": 5,
   "id": "077b6699-a593-44dc-91e8-9aa8d31ebc75",
   "metadata": {},
   "outputs": [],
   "source": [
    "sensor_data_cleaned = sensor_data.drop([0, 1, 2])  # Drop rows with metadata and empty values\n",
    "sensor_data_cleaned.columns = sensor_data_cleaned.iloc[0]  # Set the correct column headers\n",
    "sensor_data_cleaned = sensor_data_cleaned.drop(3)  # Drop the row used for headers\n",
    "sensor_data_cleaned = sensor_data_cleaned.reset_index(drop=True)  # Reset the index for cleanliness"
   ]
  },
  {
   "cell_type": "code",
   "execution_count": 7,
   "id": "4a4c8408-16c0-4727-b0dc-e101c7c2f724",
   "metadata": {},
   "outputs": [
    {
     "data": {
      "text/html": [
       "<div>\n",
       "<style scoped>\n",
       "    .dataframe tbody tr th:only-of-type {\n",
       "        vertical-align: middle;\n",
       "    }\n",
       "\n",
       "    .dataframe tbody tr th {\n",
       "        vertical-align: top;\n",
       "    }\n",
       "\n",
       "    .dataframe thead th {\n",
       "        text-align: right;\n",
       "    }\n",
       "</style>\n",
       "<table border=\"1\" class=\"dataframe\">\n",
       "  <thead>\n",
       "    <tr style=\"text-align: right;\">\n",
       "      <th>3</th>\n",
       "      <th>date</th>\n",
       "      <th>time</th>\n",
       "      <th>Humi</th>\n",
       "      <th>Temp</th>\n",
       "      <th>EC</th>\n",
       "      <th>PH</th>\n",
       "      <th>N</th>\n",
       "      <th>P</th>\n",
       "      <th>K</th>\n",
       "    </tr>\n",
       "  </thead>\n",
       "  <tbody>\n",
       "    <tr>\n",
       "      <th>0</th>\n",
       "      <td>10/7/2024</td>\n",
       "      <td>15:24:48</td>\n",
       "      <td>24</td>\n",
       "      <td>26.3</td>\n",
       "      <td>272</td>\n",
       "      <td>7.5</td>\n",
       "      <td>18</td>\n",
       "      <td>88</td>\n",
       "      <td>81</td>\n",
       "    </tr>\n",
       "    <tr>\n",
       "      <th>1</th>\n",
       "      <td>10/7/2024</td>\n",
       "      <td>15:54:48</td>\n",
       "      <td>22.4</td>\n",
       "      <td>26.4</td>\n",
       "      <td>272</td>\n",
       "      <td>7.7</td>\n",
       "      <td>18</td>\n",
       "      <td>88</td>\n",
       "      <td>81</td>\n",
       "    </tr>\n",
       "    <tr>\n",
       "      <th>2</th>\n",
       "      <td>10/7/2024</td>\n",
       "      <td>16:24:48</td>\n",
       "      <td>21.3</td>\n",
       "      <td>26.4</td>\n",
       "      <td>272</td>\n",
       "      <td>7.7</td>\n",
       "      <td>18</td>\n",
       "      <td>88</td>\n",
       "      <td>81</td>\n",
       "    </tr>\n",
       "    <tr>\n",
       "      <th>3</th>\n",
       "      <td>10/7/2024</td>\n",
       "      <td>16:54:48</td>\n",
       "      <td>21.7</td>\n",
       "      <td>26.5</td>\n",
       "      <td>272</td>\n",
       "      <td>7.8</td>\n",
       "      <td>18</td>\n",
       "      <td>88</td>\n",
       "      <td>81</td>\n",
       "    </tr>\n",
       "    <tr>\n",
       "      <th>4</th>\n",
       "      <td>10/7/2024</td>\n",
       "      <td>17:24:48</td>\n",
       "      <td>21.9</td>\n",
       "      <td>26.5</td>\n",
       "      <td>272</td>\n",
       "      <td>7.8</td>\n",
       "      <td>18</td>\n",
       "      <td>88</td>\n",
       "      <td>81</td>\n",
       "    </tr>\n",
       "  </tbody>\n",
       "</table>\n",
       "</div>"
      ],
      "text/plain": [
       "3       date      time  Humi  Temp   EC   PH   N   P   K\n",
       "0  10/7/2024  15:24:48    24  26.3  272  7.5  18  88  81\n",
       "1  10/7/2024  15:54:48  22.4  26.4  272  7.7  18  88  81\n",
       "2  10/7/2024  16:24:48  21.3  26.4  272  7.7  18  88  81\n",
       "3  10/7/2024  16:54:48  21.7  26.5  272  7.8  18  88  81\n",
       "4  10/7/2024  17:24:48  21.9  26.5  272  7.8  18  88  81"
      ]
     },
     "execution_count": 7,
     "metadata": {},
     "output_type": "execute_result"
    }
   ],
   "source": [
    "sensor_data_cleaned.head()"
   ]
  },
  {
   "cell_type": "code",
   "execution_count": 9,
   "id": "2216e0a1-368c-4e28-a980-e17affe99826",
   "metadata": {},
   "outputs": [
    {
     "name": "stdout",
     "output_type": "stream",
     "text": [
      "<class 'pandas.core.frame.DataFrame'>\n",
      "RangeIndex: 1183 entries, 0 to 1182\n",
      "Data columns (total 9 columns):\n",
      " #   Column  Non-Null Count  Dtype \n",
      "---  ------  --------------  ----- \n",
      " 0   date    1183 non-null   object\n",
      " 1   time    1183 non-null   object\n",
      " 2   Humi    1183 non-null   object\n",
      " 3   Temp    1183 non-null   object\n",
      " 4   EC      1183 non-null   object\n",
      " 5   PH      1183 non-null   object\n",
      " 6   N       1183 non-null   object\n",
      " 7   P       1183 non-null   object\n",
      " 8   K       1183 non-null   object\n",
      "dtypes: object(9)\n",
      "memory usage: 83.3+ KB\n"
     ]
    }
   ],
   "source": [
    "sensor_data_cleaned.info()"
   ]
  },
  {
   "cell_type": "code",
   "execution_count": 11,
   "id": "d7043bf3-4703-4560-8b0e-46fdcb410b4e",
   "metadata": {},
   "outputs": [],
   "source": [
    "numeric_columns = ['Humi', 'Temp', 'EC', 'PH', 'N', 'P', 'K']\n",
    "sensor_data_cleaned[numeric_columns] = sensor_data_cleaned[numeric_columns].apply(pd.to_numeric, errors='coerce')"
   ]
  },
  {
   "cell_type": "code",
   "execution_count": 13,
   "id": "b13822ff-ac67-42aa-b68d-d301447c7b4d",
   "metadata": {},
   "outputs": [
    {
     "name": "stdout",
     "output_type": "stream",
     "text": [
      "<class 'pandas.core.frame.DataFrame'>\n",
      "RangeIndex: 1183 entries, 0 to 1182\n",
      "Data columns (total 9 columns):\n",
      " #   Column  Non-Null Count  Dtype  \n",
      "---  ------  --------------  -----  \n",
      " 0   date    1183 non-null   object \n",
      " 1   time    1183 non-null   object \n",
      " 2   Humi    1183 non-null   float64\n",
      " 3   Temp    1183 non-null   float64\n",
      " 4   EC      1183 non-null   int64  \n",
      " 5   PH      1183 non-null   float64\n",
      " 6   N       1183 non-null   int64  \n",
      " 7   P       1183 non-null   int64  \n",
      " 8   K       1183 non-null   int64  \n",
      "dtypes: float64(3), int64(4), object(2)\n",
      "memory usage: 83.3+ KB\n"
     ]
    }
   ],
   "source": [
    "sensor_data_cleaned.info()"
   ]
  },
  {
   "cell_type": "code",
   "execution_count": 15,
   "id": "1fa63e7d-4edb-4c5a-b5cc-dcba2a595ec5",
   "metadata": {},
   "outputs": [],
   "source": [
    "sensor_data_cleaned.rename(columns={\n",
    "    'Humi': 'humidity',   # Replace 'Humi' with 'humidity'\n",
    "    'Temp': 'temperature'  # Replace 'Temp' with 'temperature'\n",
    "}, inplace=True)"
   ]
  },
  {
   "cell_type": "code",
   "execution_count": 17,
   "id": "ed12c968-c07a-40ff-a69c-e6bf28224093",
   "metadata": {},
   "outputs": [],
   "source": [
    "sensor_data_cleaned.to_csv('sensor_data_cleaned.csv', index=False)"
   ]
  },
  {
   "cell_type": "code",
   "execution_count": null,
   "id": "10c58dfc-fbe2-458d-8f04-a6fbd2b3fabc",
   "metadata": {},
   "outputs": [],
   "source": []
  }
 ],
 "metadata": {
  "kernelspec": {
   "display_name": "Python 3 (ipykernel)",
   "language": "python",
   "name": "python3"
  },
  "language_info": {
   "codemirror_mode": {
    "name": "ipython",
    "version": 3
   },
   "file_extension": ".py",
   "mimetype": "text/x-python",
   "name": "python",
   "nbconvert_exporter": "python",
   "pygments_lexer": "ipython3",
   "version": "3.12.4"
  }
 },
 "nbformat": 4,
 "nbformat_minor": 5
}
