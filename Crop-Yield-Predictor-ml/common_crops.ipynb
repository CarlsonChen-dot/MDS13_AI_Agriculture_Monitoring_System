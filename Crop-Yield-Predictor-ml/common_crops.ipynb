{
 "cells": [
  {
   "cell_type": "markdown",
   "metadata": {},
   "source": [
    "Analysis of Crop Datasets Obtained"
   ]
  },
  {
   "cell_type": "code",
   "execution_count": 3,
   "metadata": {},
   "outputs": [],
   "source": [
    "# Create dataframe for crop datasets\n",
    "import pandas as pd\n",
    "crop_ds1 = pd.read_csv('Crop_recommendation.csv')\n",
    "crop_ds2 = pd.read_csv('all_india_dataset_final.csv')\n"
   ]
  },
  {
   "cell_type": "code",
   "execution_count": 16,
   "metadata": {},
   "outputs": [
    {
     "name": "stdout",
     "output_type": "stream",
     "text": [
      "<class 'pandas.core.frame.DataFrame'>\n",
      "RangeIndex: 2200 entries, 0 to 2199\n",
      "Data columns (total 8 columns):\n",
      " #   Column       Non-Null Count  Dtype  \n",
      "---  ------       --------------  -----  \n",
      " 0   N            2200 non-null   int64  \n",
      " 1   P            2200 non-null   int64  \n",
      " 2   K            2200 non-null   int64  \n",
      " 3   temperature  2200 non-null   float64\n",
      " 4   humidity     2200 non-null   float64\n",
      " 5   ph           2200 non-null   float64\n",
      " 6   rainfall     2200 non-null   float64\n",
      " 7   label        2200 non-null   object \n",
      "dtypes: float64(4), int64(3), object(1)\n",
      "memory usage: 137.6+ KB\n"
     ]
    }
   ],
   "source": [
    "# Get overview info on the 1st crop dataset\n",
    "crop_ds1.info()\n",
    "crop_ds1.head(10)\n",
    "crop_names1 = crop_ds1['label'].unique()   "
   ]
  },
  {
   "cell_type": "code",
   "execution_count": 14,
   "metadata": {},
   "outputs": [
    {
     "name": "stdout",
     "output_type": "stream",
     "text": [
      "<class 'pandas.core.frame.DataFrame'>\n",
      "RangeIndex: 246091 entries, 0 to 246090\n",
      "Data columns (total 17 columns):\n",
      " #   Column          Non-Null Count   Dtype  \n",
      "---  ------          --------------   -----  \n",
      " 0   Unnamed: 0      246091 non-null  int64  \n",
      " 1   state_names     246091 non-null  object \n",
      " 2   district_names  246091 non-null  object \n",
      " 3   crop_year       246091 non-null  int64  \n",
      " 4   season_names    246091 non-null  object \n",
      " 5   crop_names      246091 non-null  object \n",
      " 6   area            246091 non-null  float64\n",
      " 7   temperature     246091 non-null  float64\n",
      " 8   wind_speed      246091 non-null  float64\n",
      " 9   precipitation   246091 non-null  float64\n",
      " 10  humidity        246091 non-null  int64  \n",
      " 11  soil_type       246091 non-null  object \n",
      " 12  N               246091 non-null  float64\n",
      " 13  P               246091 non-null  float64\n",
      " 14  K               246091 non-null  float64\n",
      " 15  production      246091 non-null  object \n",
      " 16  pressure        246091 non-null  int64  \n",
      "dtypes: float64(7), int64(4), object(6)\n",
      "memory usage: 31.9+ MB\n"
     ]
    },
    {
     "data": {
      "text/plain": [
       "array(['Arecanut', 'Other Kharif pulses', 'Rice', 'Banana', 'Cashewnut',\n",
       "       'Coconut ', 'Dry ginger', 'Sugarcane', 'Sweet potato', 'Tapioca',\n",
       "       'Black pepper', 'Dry chillies', 'other oilseeds', 'Turmeric',\n",
       "       'Maize', 'Moong(Green Gram)', 'Urad', 'Arhar/Tur', 'Groundnut',\n",
       "       'Sunflower', 'Bajra', 'Castor seed', 'Cotton(lint)', 'Horse-gram',\n",
       "       'Jowar', 'Korra', 'Ragi', 'Tobacco', 'Gram', 'Wheat', 'Masoor',\n",
       "       'Sesamum', 'Linseed', 'Safflower', 'Onion', 'other misc. pulses',\n",
       "       'Samai', 'Small millets', 'Coriander', 'Potato',\n",
       "       'Other  Rabi pulses', 'Soyabean', 'Beans & Mutter(Vegetable)',\n",
       "       'Bhindi', 'Brinjal', 'Citrus Fruit', 'Cucumber', 'Grapes', 'Mango',\n",
       "       'Orange', 'other fibres', 'Other Fresh Fruits', 'Other Vegetables',\n",
       "       'Papaya', 'Pome Fruit', 'Tomato', 'Rapeseed &Mustard', 'Mesta',\n",
       "       'Cowpea(Lobia)', 'Lemon', 'Pome Granet', 'Sapota', 'Cabbage',\n",
       "       'Peas  (vegetable)', 'Niger seed', 'Bottle Gourd', 'Sannhamp',\n",
       "       'Varagu', 'Garlic', 'Ginger', 'Oilseeds total', 'Pulses total',\n",
       "       'Jute', 'Peas & beans (Pulses)', 'Blackgram', 'Paddy', 'Pineapple',\n",
       "       'Barley', 'Khesari', 'Guar seed', 'Moth',\n",
       "       'Other Cereals & Millets', 'Cond-spcs other', 'Turnip', 'Carrot',\n",
       "       'Redish', 'Arcanut (Processed)', 'Atcanut (Raw)',\n",
       "       'Cashewnut Processed', 'Cashewnut Raw', 'Cardamom', 'Rubber',\n",
       "       'Bitter Gourd', 'Drum Stick', 'Jack Fruit', 'Snak Guard',\n",
       "       'Pump Kin', 'Tea', 'Coffee', 'Cauliflower', 'Other Citrus Fruit',\n",
       "       'Water Melon', 'Total foodgrain', 'Kapas', 'Colocosia', 'Lentil',\n",
       "       'Bean', 'Jobster', 'Perilla', 'Rajmash Kholar',\n",
       "       'Ricebean (nagadal)', 'Ash Gourd', 'Beet Root', 'Lab-Lab',\n",
       "       'Ribed Guard', 'Yam', 'Apple', 'Peach', 'Pear', 'Plums', 'Litchi',\n",
       "       'Ber', 'Other Dry Fruit', 'Jute & mesta'], dtype=object)"
      ]
     },
     "execution_count": 14,
     "metadata": {},
     "output_type": "execute_result"
    }
   ],
   "source": [
    "# Get overview info on the 2nd crop dataset\n",
    "crop_ds2.info()\n",
    "crop_ds2.head(10)\n",
    "crop_names2= crop_ds2['crop_names'].unique()\n",
    "crop_names2\n"
   ]
  },
  {
   "cell_type": "code",
   "execution_count": 22,
   "metadata": {},
   "outputs": [
    {
     "name": "stdout",
     "output_type": "stream",
     "text": [
      "['maize', 'grapes', 'jute', 'orange', 'blackgram', 'lentil', 'mango', 'banana', 'apple', 'coffee', 'rice', 'papaya']\n"
     ]
    }
   ],
   "source": [
    "def find_common_elements(array1, array2):\n",
    "    # Convert arrays to lowercase sets\n",
    "    set1 = set(x.lower() for x in array1)\n",
    "    set2 = set(x.lower() for x in array2)\n",
    "    \n",
    "    # Find intersection of both sets\n",
    "    common_elements = set1.intersection(set2)\n",
    "    \n",
    "    # Convert result back to list\n",
    "    return list(common_elements)\n",
    "\n",
    "print(find_common_elements(crop_names1, crop_names2))"
   ]
  },
  {
   "cell_type": "code",
   "execution_count": null,
   "metadata": {},
   "outputs": [],
   "source": []
  }
 ],
 "metadata": {
  "kernelspec": {
   "display_name": "Python 3",
   "language": "python",
   "name": "python3"
  },
  "language_info": {
   "codemirror_mode": {
    "name": "ipython",
    "version": 3
   },
   "file_extension": ".py",
   "mimetype": "text/x-python",
   "name": "python",
   "nbconvert_exporter": "python",
   "pygments_lexer": "ipython3",
   "version": "3.11.9"
  }
 },
 "nbformat": 4,
 "nbformat_minor": 2
}
