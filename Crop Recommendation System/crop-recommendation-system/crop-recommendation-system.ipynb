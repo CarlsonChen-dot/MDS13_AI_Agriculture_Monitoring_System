{
 "cells": [
  {
   "cell_type": "markdown",
   "metadata": {},
   "source": [
    "# Crop Recommendation System"
   ]
  },
  {
   "cell_type": "markdown",
   "metadata": {},
   "source": [
    "Goal 🎯: To recommend optimum crops to be cultivated by farmers based on several parameters and help them make an informed decision before cultivation."
   ]
  },
  {
   "cell_type": "code",
   "execution_count": 117,
   "metadata": {},
   "outputs": [],
   "source": [
    "# Import libraries\n",
    "from __future__ import print_function\n",
    "import pandas as pd\n",
    "import numpy as np\n",
    "import matplotlib.pyplot as plt\n",
    "import seaborn as sns\n",
    "from sklearn.metrics import classification_report\n",
    "from sklearn import metrics\n",
    "from sklearn import tree\n",
    "import warnings\n",
    "warnings.filterwarnings('ignore')"
   ]
  },
  {
   "cell_type": "markdown",
   "metadata": {},
   "source": [
    "### Part A: Data Exploration"
   ]
  },
  {
   "cell_type": "code",
   "execution_count": 118,
   "metadata": {},
   "outputs": [
    {
     "data": {
      "text/html": [
       "<div>\n",
       "<style scoped>\n",
       "    .dataframe tbody tr th:only-of-type {\n",
       "        vertical-align: middle;\n",
       "    }\n",
       "\n",
       "    .dataframe tbody tr th {\n",
       "        vertical-align: top;\n",
       "    }\n",
       "\n",
       "    .dataframe thead th {\n",
       "        text-align: right;\n",
       "    }\n",
       "</style>\n",
       "<table border=\"1\" class=\"dataframe\">\n",
       "  <thead>\n",
       "    <tr style=\"text-align: right;\">\n",
       "      <th></th>\n",
       "      <th>N</th>\n",
       "      <th>P</th>\n",
       "      <th>K</th>\n",
       "      <th>temperature</th>\n",
       "      <th>humidity</th>\n",
       "      <th>ph</th>\n",
       "      <th>rainfall</th>\n",
       "      <th>label</th>\n",
       "    </tr>\n",
       "  </thead>\n",
       "  <tbody>\n",
       "    <tr>\n",
       "      <th>0</th>\n",
       "      <td>90</td>\n",
       "      <td>42</td>\n",
       "      <td>43</td>\n",
       "      <td>20.879744</td>\n",
       "      <td>82.002744</td>\n",
       "      <td>6.502985</td>\n",
       "      <td>202.935536</td>\n",
       "      <td>rice</td>\n",
       "    </tr>\n",
       "    <tr>\n",
       "      <th>1</th>\n",
       "      <td>85</td>\n",
       "      <td>58</td>\n",
       "      <td>41</td>\n",
       "      <td>21.770462</td>\n",
       "      <td>80.319644</td>\n",
       "      <td>7.038096</td>\n",
       "      <td>226.655537</td>\n",
       "      <td>rice</td>\n",
       "    </tr>\n",
       "    <tr>\n",
       "      <th>2</th>\n",
       "      <td>60</td>\n",
       "      <td>55</td>\n",
       "      <td>44</td>\n",
       "      <td>23.004459</td>\n",
       "      <td>82.320763</td>\n",
       "      <td>7.840207</td>\n",
       "      <td>263.964248</td>\n",
       "      <td>rice</td>\n",
       "    </tr>\n",
       "    <tr>\n",
       "      <th>3</th>\n",
       "      <td>74</td>\n",
       "      <td>35</td>\n",
       "      <td>40</td>\n",
       "      <td>26.491096</td>\n",
       "      <td>80.158363</td>\n",
       "      <td>6.980401</td>\n",
       "      <td>242.864034</td>\n",
       "      <td>rice</td>\n",
       "    </tr>\n",
       "    <tr>\n",
       "      <th>4</th>\n",
       "      <td>78</td>\n",
       "      <td>42</td>\n",
       "      <td>42</td>\n",
       "      <td>20.130175</td>\n",
       "      <td>81.604873</td>\n",
       "      <td>7.628473</td>\n",
       "      <td>262.717340</td>\n",
       "      <td>rice</td>\n",
       "    </tr>\n",
       "  </tbody>\n",
       "</table>\n",
       "</div>"
      ],
      "text/plain": [
       "    N   P   K  temperature   humidity        ph    rainfall label\n",
       "0  90  42  43    20.879744  82.002744  6.502985  202.935536  rice\n",
       "1  85  58  41    21.770462  80.319644  7.038096  226.655537  rice\n",
       "2  60  55  44    23.004459  82.320763  7.840207  263.964248  rice\n",
       "3  74  35  40    26.491096  80.158363  6.980401  242.864034  rice\n",
       "4  78  42  42    20.130175  81.604873  7.628473  262.717340  rice"
      ]
     },
     "execution_count": 118,
     "metadata": {},
     "output_type": "execute_result"
    }
   ],
   "source": [
    "# Create dataframe for the crop reccomendation dataset\n",
    "df = pd.read_csv('Crop_recommendation.csv')\n",
    "df.head()"
   ]
  },
  {
   "cell_type": "code",
   "execution_count": 119,
   "metadata": {},
   "outputs": [
    {
     "name": "stdout",
     "output_type": "stream",
     "text": [
      "<class 'pandas.core.frame.DataFrame'>\n",
      "RangeIndex: 2200 entries, 0 to 2199\n",
      "Data columns (total 8 columns):\n",
      " #   Column       Non-Null Count  Dtype  \n",
      "---  ------       --------------  -----  \n",
      " 0   N            2200 non-null   int64  \n",
      " 1   P            2200 non-null   int64  \n",
      " 2   K            2200 non-null   int64  \n",
      " 3   temperature  2200 non-null   float64\n",
      " 4   humidity     2200 non-null   float64\n",
      " 5   ph           2200 non-null   float64\n",
      " 6   rainfall     2200 non-null   float64\n",
      " 7   label        2200 non-null   object \n",
      "dtypes: float64(4), int64(3), object(1)\n",
      "memory usage: 137.6+ KB\n"
     ]
    }
   ],
   "source": [
    "# Get overview information on the crop dataset\n",
    "df.info()"
   ]
  },
  {
   "cell_type": "code",
   "execution_count": 120,
   "metadata": {},
   "outputs": [
    {
     "data": {
      "text/plain": [
       "array(['rice', 'maize', 'chickpea', 'kidneybeans', 'pigeonpeas',\n",
       "       'mothbeans', 'mungbean', 'blackgram', 'lentil', 'pomegranate',\n",
       "       'banana', 'mango', 'grapes', 'watermelon', 'muskmelon', 'apple',\n",
       "       'orange', 'papaya', 'coconut', 'cotton', 'jute', 'coffee'],\n",
       "      dtype=object)"
      ]
     },
     "execution_count": 120,
     "metadata": {},
     "output_type": "execute_result"
    }
   ],
   "source": [
    "# List the crop names for the recommendation system\n",
    "df['label'].unique()"
   ]
  },
  {
   "cell_type": "code",
   "execution_count": 121,
   "metadata": {},
   "outputs": [
    {
     "data": {
      "text/plain": [
       "array(['rice', 'maize', 'chickpea', 'kidneybeans', 'mungbean', 'lentil',\n",
       "       'banana', 'mango', 'grapes', 'orange', 'cotton', 'coffee'],\n",
       "      dtype=object)"
      ]
     },
     "execution_count": 121,
     "metadata": {},
     "output_type": "execute_result"
    }
   ],
   "source": [
    "df = df[df['label'].isin(['rice', 'maize', 'chickpea', 'kidneybeans', 'mungbean', 'lentil', 'banana', 'mango', 'grapes', 'orange', 'cotton', 'coffee'])]\n",
    "df ['label'].unique()"
   ]
  },
  {
   "cell_type": "code",
   "execution_count": 149,
   "metadata": {},
   "outputs": [],
   "source": [
    "data = df.copy()\n",
    "data.drop(['rainfall'], axis=1, inplace=True)"
   ]
  },
  {
   "cell_type": "code",
   "execution_count": 156,
   "metadata": {},
   "outputs": [
    {
     "data": {
      "text/html": [
       "<div>\n",
       "<style scoped>\n",
       "    .dataframe tbody tr th:only-of-type {\n",
       "        vertical-align: middle;\n",
       "    }\n",
       "\n",
       "    .dataframe tbody tr th {\n",
       "        vertical-align: top;\n",
       "    }\n",
       "\n",
       "    .dataframe thead th {\n",
       "        text-align: right;\n",
       "    }\n",
       "</style>\n",
       "<table border=\"1\" class=\"dataframe\">\n",
       "  <thead>\n",
       "    <tr style=\"text-align: right;\">\n",
       "      <th></th>\n",
       "      <th>label</th>\n",
       "      <th>N</th>\n",
       "      <th>P</th>\n",
       "      <th>K</th>\n",
       "      <th>temperature</th>\n",
       "      <th>humidity</th>\n",
       "      <th>ph</th>\n",
       "    </tr>\n",
       "  </thead>\n",
       "  <tbody>\n",
       "    <tr>\n",
       "      <th>0</th>\n",
       "      <td>banana</td>\n",
       "      <td>80 - 120</td>\n",
       "      <td>70 - 95</td>\n",
       "      <td>45 - 55</td>\n",
       "      <td>25 - 30</td>\n",
       "      <td>75 - 85</td>\n",
       "      <td>6 - 6</td>\n",
       "    </tr>\n",
       "    <tr>\n",
       "      <th>1</th>\n",
       "      <td>chickpea</td>\n",
       "      <td>20 - 60</td>\n",
       "      <td>55 - 80</td>\n",
       "      <td>75 - 85</td>\n",
       "      <td>17 - 21</td>\n",
       "      <td>14 - 20</td>\n",
       "      <td>6 - 9</td>\n",
       "    </tr>\n",
       "    <tr>\n",
       "      <th>2</th>\n",
       "      <td>coffee</td>\n",
       "      <td>80 - 120</td>\n",
       "      <td>15 - 40</td>\n",
       "      <td>25 - 35</td>\n",
       "      <td>23 - 28</td>\n",
       "      <td>50 - 70</td>\n",
       "      <td>6 - 7</td>\n",
       "    </tr>\n",
       "    <tr>\n",
       "      <th>3</th>\n",
       "      <td>cotton</td>\n",
       "      <td>100 - 140</td>\n",
       "      <td>35 - 60</td>\n",
       "      <td>15 - 25</td>\n",
       "      <td>22 - 26</td>\n",
       "      <td>75 - 85</td>\n",
       "      <td>6 - 8</td>\n",
       "    </tr>\n",
       "    <tr>\n",
       "      <th>4</th>\n",
       "      <td>grapes</td>\n",
       "      <td>0 - 40</td>\n",
       "      <td>120 - 145</td>\n",
       "      <td>195 - 205</td>\n",
       "      <td>9 - 42</td>\n",
       "      <td>80 - 84</td>\n",
       "      <td>6 - 6</td>\n",
       "    </tr>\n",
       "    <tr>\n",
       "      <th>5</th>\n",
       "      <td>kidneybeans</td>\n",
       "      <td>0 - 40</td>\n",
       "      <td>55 - 80</td>\n",
       "      <td>15 - 25</td>\n",
       "      <td>15 - 25</td>\n",
       "      <td>18 - 25</td>\n",
       "      <td>6 - 6</td>\n",
       "    </tr>\n",
       "    <tr>\n",
       "      <th>6</th>\n",
       "      <td>lentil</td>\n",
       "      <td>0 - 40</td>\n",
       "      <td>55 - 80</td>\n",
       "      <td>15 - 25</td>\n",
       "      <td>18 - 30</td>\n",
       "      <td>60 - 70</td>\n",
       "      <td>6 - 8</td>\n",
       "    </tr>\n",
       "    <tr>\n",
       "      <th>7</th>\n",
       "      <td>maize</td>\n",
       "      <td>60 - 100</td>\n",
       "      <td>35 - 60</td>\n",
       "      <td>15 - 25</td>\n",
       "      <td>18 - 27</td>\n",
       "      <td>55 - 75</td>\n",
       "      <td>6 - 7</td>\n",
       "    </tr>\n",
       "    <tr>\n",
       "      <th>8</th>\n",
       "      <td>mango</td>\n",
       "      <td>0 - 40</td>\n",
       "      <td>15 - 40</td>\n",
       "      <td>25 - 35</td>\n",
       "      <td>27 - 36</td>\n",
       "      <td>45 - 55</td>\n",
       "      <td>5 - 7</td>\n",
       "    </tr>\n",
       "    <tr>\n",
       "      <th>9</th>\n",
       "      <td>mungbean</td>\n",
       "      <td>0 - 40</td>\n",
       "      <td>35 - 60</td>\n",
       "      <td>15 - 25</td>\n",
       "      <td>27 - 30</td>\n",
       "      <td>80 - 90</td>\n",
       "      <td>6 - 7</td>\n",
       "    </tr>\n",
       "    <tr>\n",
       "      <th>10</th>\n",
       "      <td>orange</td>\n",
       "      <td>0 - 40</td>\n",
       "      <td>5 - 30</td>\n",
       "      <td>5 - 15</td>\n",
       "      <td>10 - 35</td>\n",
       "      <td>90 - 95</td>\n",
       "      <td>6 - 8</td>\n",
       "    </tr>\n",
       "    <tr>\n",
       "      <th>11</th>\n",
       "      <td>rice</td>\n",
       "      <td>60 - 99</td>\n",
       "      <td>35 - 60</td>\n",
       "      <td>35 - 45</td>\n",
       "      <td>20 - 27</td>\n",
       "      <td>80 - 85</td>\n",
       "      <td>5 - 8</td>\n",
       "    </tr>\n",
       "  </tbody>\n",
       "</table>\n",
       "</div>"
      ],
      "text/plain": [
       "          label          N          P          K temperature humidity     ph\n",
       "0        banana   80 - 120    70 - 95    45 - 55     25 - 30  75 - 85  6 - 6\n",
       "1      chickpea    20 - 60    55 - 80    75 - 85     17 - 21  14 - 20  6 - 9\n",
       "2        coffee   80 - 120    15 - 40    25 - 35     23 - 28  50 - 70  6 - 7\n",
       "3        cotton  100 - 140    35 - 60    15 - 25     22 - 26  75 - 85  6 - 8\n",
       "4        grapes     0 - 40  120 - 145  195 - 205      9 - 42  80 - 84  6 - 6\n",
       "5   kidneybeans     0 - 40    55 - 80    15 - 25     15 - 25  18 - 25  6 - 6\n",
       "6        lentil     0 - 40    55 - 80    15 - 25     18 - 30  60 - 70  6 - 8\n",
       "7         maize   60 - 100    35 - 60    15 - 25     18 - 27  55 - 75  6 - 7\n",
       "8         mango     0 - 40    15 - 40    25 - 35     27 - 36  45 - 55  5 - 7\n",
       "9      mungbean     0 - 40    35 - 60    15 - 25     27 - 30  80 - 90  6 - 7\n",
       "10       orange     0 - 40     5 - 30     5 - 15     10 - 35  90 - 95  6 - 8\n",
       "11         rice    60 - 99    35 - 60    35 - 45     20 - 27  80 - 85  5 - 8"
      ]
     },
     "execution_count": 156,
     "metadata": {},
     "output_type": "execute_result"
    }
   ],
   "source": [
    "ideal_ranges = data.groupby('label').agg({\n",
    "    'N': lambda x: f\"{round(x.min())} - {round(x.max())}\",\n",
    "    'P': lambda x: f\"{round(x.min())} - {round(x.max())}\",\n",
    "    'K': lambda x: f\"{round(x.min())} - {round(x.max())}\",\n",
    "    'temperature': lambda x: f\"{round(x.min())} - {round(x.max())}\",\n",
    "    'humidity': lambda x: f\"{round(x.min())} - {round(x.max())}\",\n",
    "    'ph': lambda x: f\"{round(x.min())} - {round(x.max())}\"\n",
    "}).reset_index()\n",
    "\n",
    "\n",
    "ideal_ranges"
   ]
  },
  {
   "cell_type": "code",
   "execution_count": 122,
   "metadata": {},
   "outputs": [
    {
     "data": {
      "text/plain": [
       "<Axes: >"
      ]
     },
     "execution_count": 122,
     "metadata": {},
     "output_type": "execute_result"
    },
    {
     "data": {
      "image/png": "[encoded data removed]",
      "text/plain": [
       "<Figure size 640x480 with 2 Axes>"
      ]
     },
     "metadata": {},
     "output_type": "display_data"
    }
   ],
   "source": [
    "# Visualise correlation matrix to inspect how numeric features in the dataset are correlated to each other\n",
    "numeric_df = df.select_dtypes(include=[float, int])\n",
    "sns.heatmap(numeric_df.corr(), annot=True)"
   ]
  },
  {
   "cell_type": "markdown",
   "metadata": {},
   "source": [
    "### Part B: Data Pre-processing for Machine Learning"
   ]
  },
  {
   "cell_type": "code",
   "execution_count": 123,
   "metadata": {},
   "outputs": [],
   "source": [
    "# Seperating features and target label \n",
    "features = df[['N', 'P','K','temperature', 'humidity', 'ph', 'rainfall']]\n",
    "target = df['label']\n",
    "labels = df['label']"
   ]
  },
  {
   "cell_type": "code",
   "execution_count": 124,
   "metadata": {},
   "outputs": [],
   "source": [
    "# Initializing empty lists to append all model's name and corresponding accuracy scores\n",
    "model = []\n",
    "acc = []"
   ]
  },
  {
   "cell_type": "code",
   "execution_count": 125,
   "metadata": {},
   "outputs": [],
   "source": [
    "# Splitting into train and test data\n",
    "from sklearn.model_selection import train_test_split\n",
    "Xtrain, Xtest, Ytrain, Ytest = train_test_split(features,target,test_size = 0.2,random_state =2)"
   ]
  },
  {
   "cell_type": "markdown",
   "metadata": {},
   "source": [
    "### Part C: Building and Evaluating Machine Learning Models"
   ]
  },
  {
   "cell_type": "markdown",
   "metadata": {},
   "source": [
    "##### 1) Descision Tree 🌳"
   ]
  },
  {
   "cell_type": "code",
   "execution_count": 126,
   "metadata": {},
   "outputs": [
    {
     "name": "stdout",
     "output_type": "stream",
     "text": [
      "DecisionTrees's Accuracy is:  100.0\n",
      "              precision    recall  f1-score   support\n",
      "\n",
      "      banana       1.00      1.00      1.00        20\n",
      "    chickpea       1.00      1.00      1.00        22\n",
      "      coffee       1.00      1.00      1.00        16\n",
      "      cotton       1.00      1.00      1.00        21\n",
      "      grapes       1.00      1.00      1.00        16\n",
      " kidneybeans       1.00      1.00      1.00        20\n",
      "      lentil       1.00      1.00      1.00        21\n",
      "       maize       1.00      1.00      1.00        16\n",
      "       mango       1.00      1.00      1.00        20\n",
      "    mungbean       1.00      1.00      1.00        28\n",
      "      orange       1.00      1.00      1.00        21\n",
      "        rice       1.00      1.00      1.00        19\n",
      "\n",
      "    accuracy                           1.00       240\n",
      "   macro avg       1.00      1.00      1.00       240\n",
      "weighted avg       1.00      1.00      1.00       240\n",
      "\n"
     ]
    }
   ],
   "source": [
    "from sklearn.tree import DecisionTreeClassifier\n",
    "\n",
    "# Initialize the Decision Tree Classifier\n",
    "DecisionTree = DecisionTreeClassifier(criterion=\"entropy\",random_state=2,max_depth=5)\n",
    "\n",
    "# Fit the model on the training data\n",
    "DecisionTree.fit(Xtrain,Ytrain)\n",
    "\n",
    "# Predict on the test data\n",
    "predicted_values = DecisionTree.predict(Xtest)\n",
    "\n",
    "# Calculate the accuracy of the model\n",
    "x = metrics.accuracy_score(Ytest, predicted_values)\n",
    "acc.append(x)\n",
    "model.append('Decision Tree')\n",
    "print(\"DecisionTrees's Accuracy is: \", x*100)\n",
    "\n",
    "# Print a detailed classification report\n",
    "print(classification_report(Ytest,predicted_values))\n"
   ]
  },
  {
   "cell_type": "markdown",
   "metadata": {},
   "source": [
    "Cross Validation : Used to get a better understanding of how your model is likely to perform on new, unseen data and ensure that your performance estimates are more reliable. "
   ]
  },
  {
   "cell_type": "code",
   "execution_count": 127,
   "metadata": {},
   "outputs": [
    {
     "data": {
      "text/plain": [
       "array([0.99166667, 0.99166667, 0.99166667, 1.        , 0.99583333])"
      ]
     },
     "execution_count": 127,
     "metadata": {},
     "output_type": "execute_result"
    }
   ],
   "source": [
    "\"\"\" Cross-validation \"\"\"\n",
    "# Cross validation score (Decision Tree)\n",
    "from sklearn.model_selection import cross_val_score\n",
    "score = cross_val_score(DecisionTree, features, target,cv=5)\n",
    "score"
   ]
  },
  {
   "cell_type": "code",
   "execution_count": 128,
   "metadata": {},
   "outputs": [],
   "source": [
    "# Saving the trained Decision Tree model\n",
    "import pickle\n",
    "\n",
    "# Open the file to save the Decision Tree Model as pkl file\n",
    "DT_Model_pkl = open('DecisionTree.pkl', 'wb')\n",
    "pickle.dump(DecisionTree, DT_Model_pkl)\n",
    "\n",
    "# Close the pickle instances\n",
    "DT_Model_pkl.close()"
   ]
  },
  {
   "cell_type": "markdown",
   "metadata": {},
   "source": [
    "##### 2) Guassian Naive Bayes 🎲"
   ]
  },
  {
   "cell_type": "code",
   "execution_count": 129,
   "metadata": {},
   "outputs": [
    {
     "name": "stdout",
     "output_type": "stream",
     "text": [
      "Naive Bayes's Accuracy is:  1.0\n",
      "              precision    recall  f1-score   support\n",
      "\n",
      "      banana       1.00      1.00      1.00        20\n",
      "    chickpea       1.00      1.00      1.00        22\n",
      "      coffee       1.00      1.00      1.00        16\n",
      "      cotton       1.00      1.00      1.00        21\n",
      "      grapes       1.00      1.00      1.00        16\n",
      " kidneybeans       1.00      1.00      1.00        20\n",
      "      lentil       1.00      1.00      1.00        21\n",
      "       maize       1.00      1.00      1.00        16\n",
      "       mango       1.00      1.00      1.00        20\n",
      "    mungbean       1.00      1.00      1.00        28\n",
      "      orange       1.00      1.00      1.00        21\n",
      "        rice       1.00      1.00      1.00        19\n",
      "\n",
      "    accuracy                           1.00       240\n",
      "   macro avg       1.00      1.00      1.00       240\n",
      "weighted avg       1.00      1.00      1.00       240\n",
      "\n"
     ]
    }
   ],
   "source": [
    "from sklearn.naive_bayes import GaussianNB\n",
    "\n",
    "NaiveBayes = GaussianNB()\n",
    "\n",
    "NaiveBayes.fit(Xtrain,Ytrain)\n",
    "\n",
    "predicted_values = NaiveBayes.predict(Xtest)\n",
    "x = metrics.accuracy_score(Ytest, predicted_values)\n",
    "acc.append(x)\n",
    "model.append('Naive Bayes')\n",
    "print(\"Naive Bayes's Accuracy is: \", x)\n",
    "\n",
    "print(classification_report(Ytest,predicted_values))"
   ]
  },
  {
   "cell_type": "code",
   "execution_count": 130,
   "metadata": {},
   "outputs": [
    {
     "data": {
      "text/plain": [
       "array([1.        , 0.99583333, 1.        , 1.        , 1.        ])"
      ]
     },
     "execution_count": 130,
     "metadata": {},
     "output_type": "execute_result"
    }
   ],
   "source": [
    "# Cross validation score (NaiveBayes)\n",
    "score = cross_val_score(NaiveBayes,features,target,cv=5)\n",
    "score"
   ]
  },
  {
   "cell_type": "code",
   "execution_count": 131,
   "metadata": {},
   "outputs": [],
   "source": [
    "# Saving the trained Guassian Naive Bayes model\n",
    "NB_Model_pkl = open('NBClassifier.pkl', 'wb')\n",
    "pickle.dump(NaiveBayes, NB_Model_pkl)\n",
    "NB_Model_pkl.close()"
   ]
  },
  {
   "cell_type": "markdown",
   "metadata": {},
   "source": [
    "##### 3) Support Vector Machine 🏹"
   ]
  },
  {
   "cell_type": "code",
   "execution_count": 132,
   "metadata": {},
   "outputs": [
    {
     "name": "stdout",
     "output_type": "stream",
     "text": [
      "SVM's Accuracy is:  0.15416666666666667\n",
      "              precision    recall  f1-score   support\n",
      "\n",
      "      banana       1.00      0.15      0.26        20\n",
      "    chickpea       1.00      0.09      0.17        22\n",
      "      coffee       1.00      0.19      0.32        16\n",
      "      cotton       1.00      0.14      0.25        21\n",
      "      grapes       1.00      0.31      0.48        16\n",
      " kidneybeans       1.00      0.05      0.10        20\n",
      "      lentil       0.00      0.00      0.00        21\n",
      "       maize       0.07      1.00      0.14        16\n",
      "       mango       1.00      0.10      0.18        20\n",
      "    mungbean       1.00      0.04      0.07        28\n",
      "      orange       1.00      0.05      0.09        21\n",
      "        rice       0.00      0.00      0.00        19\n",
      "\n",
      "    accuracy                           0.15       240\n",
      "   macro avg       0.76      0.18      0.17       240\n",
      "weighted avg       0.77      0.15      0.16       240\n",
      "\n"
     ]
    }
   ],
   "source": [
    "from sklearn.svm import SVC\n",
    "\n",
    "SVM = SVC(gamma='auto')\n",
    "\n",
    "SVM.fit(Xtrain,Ytrain)\n",
    "\n",
    "predicted_values = SVM.predict(Xtest)\n",
    "\n",
    "x = metrics.accuracy_score(Ytest, predicted_values)\n",
    "acc.append(x)\n",
    "model.append('SVM')\n",
    "print(\"SVM's Accuracy is: \", x)\n",
    "\n",
    "print(classification_report(Ytest,predicted_values))"
   ]
  },
  {
   "cell_type": "code",
   "execution_count": 133,
   "metadata": {},
   "outputs": [
    {
     "data": {
      "text/plain": [
       "array([0.275     , 0.325     , 0.3875    , 0.28333333, 0.35833333])"
      ]
     },
     "execution_count": 133,
     "metadata": {},
     "output_type": "execute_result"
    }
   ],
   "source": [
    "# Cross validation score (SVM)\n",
    "score = cross_val_score(SVM,features,target,cv=5)\n",
    "score"
   ]
  },
  {
   "cell_type": "code",
   "execution_count": 134,
   "metadata": {},
   "outputs": [],
   "source": [
    "# Saving the trained Support Vector Machine model\n",
    "SVM_Model_pkl = open('SupportVectorMachine', 'wb')\n",
    "pickle.dump(SVM, SVM_Model_pkl)\n",
    "SVM_Model_pkl.close()"
   ]
  },
  {
   "cell_type": "markdown",
   "metadata": {},
   "source": [
    "##### 4) Logistics Regression 👨🏻‍💻"
   ]
  },
  {
   "cell_type": "code",
   "execution_count": 135,
   "metadata": {},
   "outputs": [
    {
     "name": "stdout",
     "output_type": "stream",
     "text": [
      "Logistic Regression's Accuracy is:  0.9916666666666667\n",
      "              precision    recall  f1-score   support\n",
      "\n",
      "      banana       1.00      1.00      1.00        20\n",
      "    chickpea       1.00      1.00      1.00        22\n",
      "      coffee       1.00      1.00      1.00        16\n",
      "      cotton       1.00      0.90      0.95        21\n",
      "      grapes       1.00      1.00      1.00        16\n",
      " kidneybeans       1.00      1.00      1.00        20\n",
      "      lentil       1.00      1.00      1.00        21\n",
      "       maize       0.89      1.00      0.94        16\n",
      "       mango       1.00      1.00      1.00        20\n",
      "    mungbean       1.00      1.00      1.00        28\n",
      "      orange       1.00      1.00      1.00        21\n",
      "        rice       1.00      1.00      1.00        19\n",
      "\n",
      "    accuracy                           0.99       240\n",
      "   macro avg       0.99      0.99      0.99       240\n",
      "weighted avg       0.99      0.99      0.99       240\n",
      "\n"
     ]
    }
   ],
   "source": [
    "from sklearn.linear_model import LogisticRegression\n",
    "\n",
    "LogReg = LogisticRegression(random_state=2)\n",
    "\n",
    "LogReg.fit(Xtrain,Ytrain)\n",
    "\n",
    "predicted_values = LogReg.predict(Xtest)\n",
    "\n",
    "x = metrics.accuracy_score(Ytest, predicted_values)\n",
    "acc.append(x)\n",
    "model.append('Logistic Regression')\n",
    "print(\"Logistic Regression's Accuracy is: \", x)\n",
    "\n",
    "print(classification_report(Ytest,predicted_values))"
   ]
  },
  {
   "cell_type": "code",
   "execution_count": 136,
   "metadata": {},
   "outputs": [
    {
     "data": {
      "text/plain": [
       "array([1.        , 0.98333333, 0.9875    , 0.9875    , 0.97916667])"
      ]
     },
     "execution_count": 136,
     "metadata": {},
     "output_type": "execute_result"
    }
   ],
   "source": [
    "# Cross validation score (Logistic Regression)\n",
    "score = cross_val_score(LogReg,features,target,cv=5)\n",
    "score"
   ]
  },
  {
   "cell_type": "code",
   "execution_count": 137,
   "metadata": {},
   "outputs": [],
   "source": [
    "# Saving the trained Logistic Regression model\n",
    "LR_Model_pkl = open('LogisticRegression.pkl', 'wb')\n",
    "pickle.dump(LogReg, LR_Model_pkl)\n",
    "LR_Model_pkl.close()"
   ]
  },
  {
   "cell_type": "markdown",
   "metadata": {},
   "source": [
    "##### 5) Random Forest 🌲"
   ]
  },
  {
   "cell_type": "code",
   "execution_count": 138,
   "metadata": {},
   "outputs": [
    {
     "name": "stdout",
     "output_type": "stream",
     "text": [
      "RF's Accuracy is:  1.0\n",
      "              precision    recall  f1-score   support\n",
      "\n",
      "      banana       1.00      1.00      1.00        20\n",
      "    chickpea       1.00      1.00      1.00        22\n",
      "      coffee       1.00      1.00      1.00        16\n",
      "      cotton       1.00      1.00      1.00        21\n",
      "      grapes       1.00      1.00      1.00        16\n",
      " kidneybeans       1.00      1.00      1.00        20\n",
      "      lentil       1.00      1.00      1.00        21\n",
      "       maize       1.00      1.00      1.00        16\n",
      "       mango       1.00      1.00      1.00        20\n",
      "    mungbean       1.00      1.00      1.00        28\n",
      "      orange       1.00      1.00      1.00        21\n",
      "        rice       1.00      1.00      1.00        19\n",
      "\n",
      "    accuracy                           1.00       240\n",
      "   macro avg       1.00      1.00      1.00       240\n",
      "weighted avg       1.00      1.00      1.00       240\n",
      "\n"
     ]
    }
   ],
   "source": [
    "from sklearn.ensemble import RandomForestClassifier\n",
    "\n",
    "RF = RandomForestClassifier(n_estimators=20, random_state=0)\n",
    "RF.fit(Xtrain,Ytrain)\n",
    "\n",
    "predicted_values = RF.predict(Xtest)\n",
    "\n",
    "x = metrics.accuracy_score(Ytest, predicted_values)\n",
    "acc.append(x)\n",
    "model.append('RF')\n",
    "print(\"RF's Accuracy is: \", x)\n",
    "\n",
    "print(classification_report(Ytest,predicted_values))"
   ]
  },
  {
   "cell_type": "code",
   "execution_count": 139,
   "metadata": {},
   "outputs": [
    {
     "data": {
      "text/plain": [
       "array([1., 1., 1., 1., 1.])"
      ]
     },
     "execution_count": 139,
     "metadata": {},
     "output_type": "execute_result"
    }
   ],
   "source": [
    "# Cross validation score (Random Forest)\n",
    "score = cross_val_score(RF,features,target,cv=5)\n",
    "score"
   ]
  },
  {
   "cell_type": "code",
   "execution_count": 140,
   "metadata": {},
   "outputs": [],
   "source": [
    "# Saving the trained Random Forest model\n",
    "RF_Model_pkl = open('RandomForest.pkl', 'wb')\n",
    "pickle.dump(RF, RF_Model_pkl)\n",
    "RF_Model_pkl.close()"
   ]
  },
  {
   "cell_type": "markdown",
   "metadata": {},
   "source": [
    "##### 6) XGBoost 🚀"
   ]
  },
  {
   "cell_type": "code",
   "execution_count": 141,
   "metadata": {},
   "outputs": [
    {
     "name": "stdout",
     "output_type": "stream",
     "text": [
      "XGBoost's Accuracy is:  0.9958333333333333\n",
      "              precision    recall  f1-score   support\n",
      "\n",
      "      banana       1.00      1.00      1.00        20\n",
      "    chickpea       1.00      0.95      0.98        22\n",
      "      coffee       1.00      1.00      1.00        16\n",
      "      cotton       1.00      1.00      1.00        21\n",
      "      grapes       1.00      1.00      1.00        16\n",
      " kidneybeans       0.95      1.00      0.98        20\n",
      "      lentil       1.00      1.00      1.00        21\n",
      "       maize       1.00      1.00      1.00        16\n",
      "       mango       1.00      1.00      1.00        20\n",
      "    mungbean       1.00      1.00      1.00        28\n",
      "      orange       1.00      1.00      1.00        21\n",
      "        rice       1.00      1.00      1.00        19\n",
      "\n",
      "    accuracy                           1.00       240\n",
      "   macro avg       1.00      1.00      1.00       240\n",
      "weighted avg       1.00      1.00      1.00       240\n",
      "\n"
     ]
    }
   ],
   "source": [
    "import xgboost as xgb\n",
    "from sklearn.preprocessing import LabelEncoder\n",
    "\n",
    "XB = xgb.XGBClassifier()\n",
    "\n",
    "# Initialize LabelEncoder\n",
    "label_encoder = LabelEncoder()\n",
    "\n",
    "# Fit and transform the target labels to numeric values\n",
    "Ytrain_encoded = label_encoder.fit_transform(Ytrain)\n",
    "Ytest_encoded = label_encoder.transform(Ytest)\n",
    "\n",
    "XB = xgb.XGBClassifier()\n",
    "XB.fit(Xtrain, Ytrain_encoded)\n",
    "\n",
    "predicted_values_encoded = XB.predict(Xtest)\n",
    "\n",
    "# Convert predictions back to original labels\n",
    "predicted_values = label_encoder.inverse_transform(predicted_values_encoded)\n",
    "\n",
    "x = metrics.accuracy_score(Ytest, predicted_values)\n",
    "print(\"XGBoost's Accuracy is: \", x)\n",
    "print(classification_report(Ytest, predicted_values))"
   ]
  },
  {
   "cell_type": "code",
   "execution_count": 142,
   "metadata": {},
   "outputs": [
    {
     "data": {
      "text/plain": [
       "array([1.        , 0.99166667, 1.        , 0.9875    , 0.99583333])"
      ]
     },
     "execution_count": 142,
     "metadata": {},
     "output_type": "execute_result"
    }
   ],
   "source": [
    "# Cross validation score (XGBoost)\n",
    "# Fit and transform the target labels to numeric values\n",
    "target_encoded = label_encoder.fit_transform(target)\n",
    "score = cross_val_score(XB,features,target_encoded,cv=5)\n",
    "score"
   ]
  },
  {
   "cell_type": "code",
   "execution_count": 143,
   "metadata": {},
   "outputs": [],
   "source": [
    "# Saving the trained XGBoost model\n",
    "XB_Model_pkl = open('XGBoost.pkl', 'wb')\n",
    "pickle.dump(XB, XB_Model_pkl)\n",
    "XB_Model_pkl.close()"
   ]
  },
  {
   "cell_type": "markdown",
   "metadata": {},
   "source": [
    "### Part D: Accuracy Comparison between Machine learning models"
   ]
  },
  {
   "cell_type": "code",
   "execution_count": 144,
   "metadata": {},
   "outputs": [
    {
     "data": {
      "text/plain": [
       "<Axes: title={'center': 'Accuracy Comparison'}, xlabel='Accuracy', ylabel='Algorithm'>"
      ]
     },
     "execution_count": 144,
     "metadata": {},
     "output_type": "execute_result"
    },
    {
     "data": {
      "image/png": "[encoded data removed]",
      "text/plain": [
       "<Figure size 1000x500 with 1 Axes>"
      ]
     },
     "metadata": {},
     "output_type": "display_data"
    }
   ],
   "source": [
    "plt.figure(figsize=[10,5],dpi = 100)\n",
    "plt.title('Accuracy Comparison')\n",
    "plt.xlabel('Accuracy')\n",
    "plt.ylabel('Algorithm')\n",
    "sns.barplot(x = acc,y = model,palette='dark')"
   ]
  },
  {
   "cell_type": "code",
   "execution_count": 145,
   "metadata": {},
   "outputs": [
    {
     "name": "stdout",
     "output_type": "stream",
     "text": [
      "Decision Tree --> 1.0\n",
      "Naive Bayes --> 1.0\n",
      "SVM --> 0.15416666666666667\n",
      "Logistic Regression --> 0.9916666666666667\n",
      "RF --> 1.0\n"
     ]
    }
   ],
   "source": [
    "# List the accuracy score for each model\n",
    "accuracy_models = dict(zip(model, acc))\n",
    "for k, v in accuracy_models.items():\n",
    "    print (k, '-->', v)"
   ]
  },
  {
   "cell_type": "markdown",
   "metadata": {},
   "source": [
    "### PART E: Making a Prediction"
   ]
  },
  {
   "cell_type": "code",
   "execution_count": 146,
   "metadata": {},
   "outputs": [
    {
     "name": "stdout",
     "output_type": "stream",
     "text": [
      "['coffee']\n"
     ]
    }
   ],
   "source": [
    "data = np.array([[104,18, 30, 23.603016, 60.3, 6.7, 140.91]])\n",
    "prediction = RF.predict(data)\n",
    "print(prediction)"
   ]
  },
  {
   "cell_type": "code",
   "execution_count": 147,
   "metadata": {},
   "outputs": [
    {
     "name": "stdout",
     "output_type": "stream",
     "text": [
      "['coffee']\n"
     ]
    }
   ],
   "source": [
    "data = np.array([[83, 45, 60, 28, 70.3, 7.0, 150.9]])\n",
    "prediction = RF.predict(data)\n",
    "print(prediction)"
   ]
  }
 ],
 "metadata": {
  "kernelspec": {
   "display_name": "Python 3",
   "language": "python",
   "name": "python3"
  },
  "language_info": {
   "codemirror_mode": {
    "name": "ipython",
    "version": 3
   },
   "file_extension": ".py",
   "mimetype": "text/x-python",
   "name": "python",
   "nbconvert_exporter": "python",
   "pygments_lexer": "ipython3",
   "version": "3.11.9"
  }
 },
 "nbformat": 4,
 "nbformat_minor": 2
}
